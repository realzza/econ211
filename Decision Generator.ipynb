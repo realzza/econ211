{
 "cells": [
  {
   "cell_type": "code",
   "execution_count": 1,
   "metadata": {},
   "outputs": [],
   "source": [
    "# import dependent packages\n",
    "import os\n",
    "import numpy as np\n",
    "import random"
   ]
  },
  {
   "cell_type": "markdown",
   "metadata": {},
   "source": [
    "### Define Object Volunteer"
   ]
  },
  {
   "cell_type": "code",
   "execution_count": 2,
   "metadata": {},
   "outputs": [],
   "source": [
    "# Define Object Volunteer\n",
    "class Volunteer(object):\n",
    "    \n",
    "    def __init__(self, name, volunteerIntent):\n",
    "        self.name = name\n",
    "        self.volProb = round(volunteerIntent,2)\n",
    "        \n",
    "    def makeDecision(self):\n",
    "        decision_pool = [1]*int(100*self.volProb) + [0]*int(100*(1-self.volProb))\n",
    "        return random.choice(decision_pool)\n",
    "    \n",
    "    def __str__(self):\n",
    "        return ('%s, willing to volunteer with probability %.2f'%(self.name, self.volProb))"
   ]
  },
  {
   "cell_type": "markdown",
   "metadata": {},
   "source": [
    "### Random Decision Making"
   ]
  },
  {
   "cell_type": "code",
   "execution_count": 3,
   "metadata": {},
   "outputs": [],
   "source": [
    "# Game Setup\n",
    "Player1 = Volunteer('Mary', 0.5)\n",
    "Player2 = Volunteer('Kate', 0.5)\n",
    "Player3 = Volunteer('John', 0.5)\n",
    "N = 3       # number of players\n",
    "V = 1       # reward if someone volunteers\n",
    "C = 0.4     # cost for the volunteer\n",
    "L = 0       # reward if no one volunteers\n",
    "rounds = 1000 # play for 1000 rounds\n",
    "players = [Player1, Player2, Player3]\n",
    "scores = np.zeros(len(players))"
   ]
  },
  {
   "cell_type": "code",
   "execution_count": 4,
   "metadata": {},
   "outputs": [
    {
     "name": "stdout",
     "output_type": "stream",
     "text": [
      "Mary, willing to volunteer with probability 0.50\n",
      "Kate, willing to volunteer with probability 0.50\n",
      "John, willing to volunteer with probability 0.50\n"
     ]
    }
   ],
   "source": [
    "# print volunteer info\n",
    "print(Player1)\n",
    "print(Player2)\n",
    "print(Player3)"
   ]
  },
  {
   "cell_type": "code",
   "execution_count": 5,
   "metadata": {},
   "outputs": [],
   "source": [
    "# Game simulation\n",
    "for r in range(rounds):\n",
    "    decisions = [p.makeDecision() for p in players]\n",
    "    if sum(decisions) > 0:\n",
    "        scores += V\n",
    "    for i in range(len(decisions)):\n",
    "        if decisions[i] == 1:\n",
    "            scores[i] -= C\n",
    "scores = {players[i].name:round(scores[i],2) for i in range(len(players))}"
   ]
  },
  {
   "cell_type": "code",
   "execution_count": 6,
   "metadata": {},
   "outputs": [
    {
     "data": {
      "text/plain": [
       "{'Mary': 667.4, 'Kate': 676.2, 'John': 684.2}"
      ]
     },
     "execution_count": 6,
     "metadata": {},
     "output_type": "execute_result"
    }
   ],
   "source": [
    "scores"
   ]
  },
  {
   "cell_type": "markdown",
   "metadata": {},
   "source": [
    "### Follow Nash Equilibrium"
   ]
  },
  {
   "cell_type": "markdown",
   "metadata": {},
   "source": [
    "$$V-C=V[1-(1-p)^{N-1}]+L(1-p)^{N-1}~~~~~~~~~~~~~~~~~~~\\cdots(1)$$  \n",
    "$$p=1-(\\frac{C}{V-L})^{\\frac{1}{N-1}}~~~~~~~~~(C < V-L)~~~~~~~~~~~~~~\\cdots(2)$$"
   ]
  },
  {
   "cell_type": "code",
   "execution_count": 7,
   "metadata": {},
   "outputs": [],
   "source": [
    "# Game Setup\n",
    "N = 3       # number of players\n",
    "V = 1       # reward if someone volunteers\n",
    "C = 0.4     # cost for the volunteer\n",
    "L = 0       # reward if no one volunteers\n",
    "\n",
    "# Follow Nash Equilibrium\n",
    "p = 1 - (C/(V-L))**(1/(N-1))\n",
    "\n",
    "Player1 = Volunteer('Mary', p)\n",
    "Player2 = Volunteer('Kate', p)\n",
    "Player3 = Volunteer('John', p)\n",
    "rounds = 1000 # play for 10 rounds\n",
    "players = [Player1, Player2, Player3]\n",
    "scores = np.zeros(len(players))\n",
    "records = {}"
   ]
  },
  {
   "cell_type": "code",
   "execution_count": 8,
   "metadata": {},
   "outputs": [
    {
     "name": "stdout",
     "output_type": "stream",
     "text": [
      "Mary, willing to volunteer with probability 0.37\n",
      "Kate, willing to volunteer with probability 0.37\n",
      "John, willing to volunteer with probability 0.37\n"
     ]
    }
   ],
   "source": [
    "# print volunteer info\n",
    "print(Player1)\n",
    "print(Player2)\n",
    "print(Player3)"
   ]
  },
  {
   "cell_type": "code",
   "execution_count": 9,
   "metadata": {},
   "outputs": [],
   "source": [
    "# Game simulation\n",
    "for r in range(rounds):\n",
    "    decisions = [p.makeDecision() for p in players]\n",
    "    if sum(decisions) > 0:\n",
    "        scores += V\n",
    "    for i in range(len(decisions)):\n",
    "        if decisions[i] == 1:\n",
    "            scores[i] -= C\n",
    "    records[r+1] = decisions\n",
    "scores = {players[i].name:round(scores[i],2) for i in range(len(players))}"
   ]
  },
  {
   "cell_type": "code",
   "execution_count": 10,
   "metadata": {},
   "outputs": [
    {
     "data": {
      "text/plain": [
       "{'Mary': 611.8, 'Kate': 607.8, 'John': 620.6}"
      ]
     },
     "execution_count": 10,
     "metadata": {},
     "output_type": "execute_result"
    }
   ],
   "source": [
    "scores"
   ]
  },
  {
   "cell_type": "markdown",
   "metadata": {},
   "source": [
    "### Always Freeriding"
   ]
  },
  {
   "cell_type": "code",
   "execution_count": 11,
   "metadata": {},
   "outputs": [],
   "source": [
    "# Game Setup\n",
    "N = 3       # number of players\n",
    "V = 1       # reward if someone volunteers\n",
    "C = 0.4     # cost for the volunteer\n",
    "L = 0       # reward if no one volunteers\n",
    "\n",
    "# Follow Nash Equilibrium\n",
    "p = 1 - (C/(V-L))**(1/(N-1))\n",
    "\n",
    "Player1 = Volunteer('Mary', 0)\n",
    "Player2 = Volunteer('Kate', p)\n",
    "Player3 = Volunteer('John', p)\n",
    "rounds = 1000 # play for 10 rounds\n",
    "players = [Player1, Player2, Player3]\n",
    "scores = np.zeros(len(players))\n",
    "records = {}"
   ]
  },
  {
   "cell_type": "code",
   "execution_count": 12,
   "metadata": {},
   "outputs": [
    {
     "name": "stdout",
     "output_type": "stream",
     "text": [
      "Mary, willing to volunteer with probability 0.00\n",
      "Kate, willing to volunteer with probability 0.37\n",
      "John, willing to volunteer with probability 0.37\n"
     ]
    }
   ],
   "source": [
    "# print volunteer info\n",
    "print(Player1)\n",
    "print(Player2)\n",
    "print(Player3)"
   ]
  },
  {
   "cell_type": "code",
   "execution_count": 13,
   "metadata": {},
   "outputs": [],
   "source": [
    "# Game simulation\n",
    "for r in range(rounds):\n",
    "    decisions = [p.makeDecision() for p in players]\n",
    "    if sum(decisions) > 0:\n",
    "        scores += V\n",
    "    for i in range(len(decisions)):\n",
    "        if decisions[i] == 1:\n",
    "            scores[i] -= C\n",
    "    records[r+1] = decisions\n",
    "scores = {players[i].name:round(scores[i],2) for i in range(len(players))}"
   ]
  },
  {
   "cell_type": "code",
   "execution_count": 14,
   "metadata": {},
   "outputs": [
    {
     "data": {
      "text/plain": [
       "{'Mary': 601.0, 'Kate': 452.2, 'John': 459.8}"
      ]
     },
     "execution_count": 14,
     "metadata": {},
     "output_type": "execute_result"
    }
   ],
   "source": [
    "scores"
   ]
  },
  {
   "cell_type": "markdown",
   "metadata": {},
   "source": [
    "### Always Volunteering"
   ]
  },
  {
   "cell_type": "code",
   "execution_count": 15,
   "metadata": {},
   "outputs": [],
   "source": [
    "# Game Setup\n",
    "N = 3       # number of players\n",
    "V = 1       # reward if someone volunteers\n",
    "C = 0.4     # cost for the volunteer\n",
    "L = 0       # reward if no one volunteers\n",
    "\n",
    "# Follow Nash Equilibrium\n",
    "p = 1 - (C/(V-L))**(1/(N-1))\n",
    "\n",
    "Player1 = Volunteer('Mary', 1)\n",
    "Player2 = Volunteer('Kate', p)\n",
    "Player3 = Volunteer('John', p)\n",
    "rounds = 1000 # play for 10 rounds\n",
    "players = [Player1, Player2, Player3]\n",
    "scores = np.zeros(len(players))\n",
    "records = {}"
   ]
  },
  {
   "cell_type": "code",
   "execution_count": 16,
   "metadata": {},
   "outputs": [
    {
     "name": "stdout",
     "output_type": "stream",
     "text": [
      "Mary, willing to volunteer with probability 1.00\n",
      "Kate, willing to volunteer with probability 0.37\n",
      "John, willing to volunteer with probability 0.37\n"
     ]
    }
   ],
   "source": [
    "# print volunteer info\n",
    "print(Player1)\n",
    "print(Player2)\n",
    "print(Player3)"
   ]
  },
  {
   "cell_type": "code",
   "execution_count": 17,
   "metadata": {},
   "outputs": [],
   "source": [
    "# Game simulation\n",
    "for r in range(rounds):\n",
    "    decisions = [p.makeDecision() for p in players]\n",
    "    if sum(decisions) > 0:\n",
    "        scores += V\n",
    "    for i in range(len(decisions)):\n",
    "        if decisions[i] == 1:\n",
    "            scores[i] -= C\n",
    "    records[r+1] = decisions\n",
    "scores = {players[i].name:round(scores[i],2) for i in range(len(players))}"
   ]
  },
  {
   "cell_type": "code",
   "execution_count": 18,
   "metadata": {},
   "outputs": [
    {
     "data": {
      "text/plain": [
       "{'Mary': 600.0, 'Kate': 845.6, 'John': 855.6}"
      ]
     },
     "execution_count": 18,
     "metadata": {},
     "output_type": "execute_result"
    }
   ],
   "source": [
    "scores"
   ]
  },
  {
   "cell_type": "code",
   "execution_count": null,
   "metadata": {},
   "outputs": [],
   "source": []
  }
 ],
 "metadata": {
  "kernelspec": {
   "display_name": "Python 3",
   "language": "python",
   "name": "python3"
  },
  "language_info": {
   "codemirror_mode": {
    "name": "ipython",
    "version": 3
   },
   "file_extension": ".py",
   "mimetype": "text/x-python",
   "name": "python",
   "nbconvert_exporter": "python",
   "pygments_lexer": "ipython3",
   "version": "3.7.6"
  }
 },
 "nbformat": 4,
 "nbformat_minor": 4
}
